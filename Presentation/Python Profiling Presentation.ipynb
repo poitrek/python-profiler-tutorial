{
 "cells": [
  {
   "cell_type": "markdown",
   "metadata": {
    "slideshow": {
     "slide_type": "slide"
    }
   },
   "source": [
    "# Python Profiling"
   ]
  },
  {
   "cell_type": "markdown",
   "metadata": {
    "slideshow": {
     "slide_type": "-"
    }
   },
   "source": [
    "## What is profiling?\n",
    "\n",
    "> <font size=3> The process of monitoring the execution of various parts of the software in order to find the sections that can be optimized within their performance/memory usage.</font>\n",
    "\n",
    "The aim of profiling is to find and identify the most <b>time- or memory-consuming parts</b> (eg. functions or code sections) of the program, so called \"bottlenecks\".\n"
   ]
  },
  {
   "cell_type": "markdown",
   "metadata": {},
   "source": [
    "<img src=\"profiling_img.png\"\n",
    "     alt=\"Profiling diagram\"\n",
    "     style=\"float: left; margin-left: 80px;\" />"
   ]
  },
  {
   "cell_type": "markdown",
   "metadata": {},
   "source": [
    "We classify profiling into performance and memory profiling. The former can be divided into <b>deterministic</b> and <b>statistical</b>. In this presentation we'll focus on deterministic approach, and a bit on the statistical one."
   ]
  },
  {
   "cell_type": "markdown",
   "metadata": {},
   "source": [
    "### Deterministic vs. statistical profiling\n",
    "\n",
    "<img src=\"det_stat1.png\"\n",
    "     alt=\"Profiling diagram\"\n",
    "     style=\"float: left; margin-left: 80px;\" />\n",
    "\n"
   ]
  },
  {
   "cell_type": "markdown",
   "metadata": {},
   "source": [
    "Deterministic profiling is a type of profiling where each function call, function return, and exception event is monitored, and the timing is made for the intervals between these events. It provides much information about the program execution, but has big impact on its performance (adds much <i>overhead</i>).\n",
    "\n",
    "Statistical profiling, on the other hand, takes samples of the program execution state periodically at constant intervals. In other words, it checks which function(s) is being called at each time interval in order to count the relative time spent in each function during execution. This profiling type therefore has less impact on the performance than deterministic profiling.\n",
    "\n",
    "Because of this, statistical profiling is better suited for larger production systems, whereas deterministic is more useful for smaller programs."
   ]
  },
  {
   "cell_type": "markdown",
   "metadata": {},
   "source": [
    "In this tutorial, we will pay attention to the following tools:\n",
    " - time\n",
    " - cProfile, profile\n",
    " - pstats\n",
    " - snakeviz\n",
    " - gprof2dot, graphviz\n",
    " - pyinstrument\n",
    " - trace"
   ]
  },
  {
   "cell_type": "markdown",
   "metadata": {},
   "source": [
    "## 1. Simple time measuring with `time`"
   ]
  },
  {
   "cell_type": "markdown",
   "metadata": {},
   "source": [
    "We can measure program execution time with a simple usage of <i>time</i> module."
   ]
  },
  {
   "cell_type": "code",
   "execution_count": 1,
   "metadata": {},
   "outputs": [
    {
     "name": "stdout",
     "output_type": "stream",
     "text": [
      "1346269\n",
      "Time elapsed: 0.5736818999999969 s\n"
     ]
    }
   ],
   "source": [
    "import time\n",
    "\n",
    "def fib(n):\n",
    "    if n == 0 or n == 1:\n",
    "        return 1\n",
    "    else:\n",
    "        return fib(n-1) + fib(n-2)\n",
    "\n",
    "# Start measuring\n",
    "start_time = time.perf_counter()\n",
    "\n",
    "# Calculate 30th Fibonacci number\n",
    "print(fib(30))\n",
    "\n",
    "# Stop measuring\n",
    "time_elapsed = time.perf_counter() - start_time\n",
    "print('Time elapsed:', time_elapsed, 's')"
   ]
  },
  {
   "cell_type": "markdown",
   "metadata": {},
   "source": [
    "#### Helper Timer class\n",
    "\n",
    "This code can be simplified with a helper Timer class defined below. It can be used when we want to measure the time many times in our code."
   ]
  },
  {
   "cell_type": "code",
   "execution_count": 2,
   "metadata": {},
   "outputs": [
    {
     "name": "stdout",
     "output_type": "stream",
     "text": [
      "3524578\n",
      "Time elapsed: 1.53339 s\n",
      "2178309\n",
      "Time elapsed: 2.43758 s\n",
      "14930352\n",
      "Time elapsed: 6.26442 s\n"
     ]
    }
   ],
   "source": [
    "class Timer:\n",
    "    _start_time = None\n",
    "    @classmethod\n",
    "    def start_measure(cls):\n",
    "        cls._start_time = time.perf_counter()\n",
    "\n",
    "    @classmethod\n",
    "    def print_time(cls):\n",
    "        time_elapsed = time.perf_counter() - cls._start_time\n",
    "        print('Time elapsed: {:.5f} s'.format(time_elapsed))\n",
    "        \n",
    "\n",
    "# Start\n",
    "Timer.start_measure()\n",
    "\n",
    "print(fib(32))\n",
    "Timer.print_time()\n",
    "print(fib(31))\n",
    "Timer.print_time()\n",
    "\n",
    "# Start again\n",
    "Timer.start_measure()\n",
    "\n",
    "print(fib(35))\n",
    "Timer.print_time()"
   ]
  },
  {
   "cell_type": "markdown",
   "metadata": {},
   "source": [
    "# 2. cProfile, profile"
   ]
  },
  {
   "cell_type": "markdown",
   "metadata": {},
   "source": [
    "`cProfile` and `profile` are built-in Python modules for profiling performance of a program. They are both implementations of the same interface, however:\n",
    "- <b>cProfile</b> is written in C and adds less overhead (additional execution time)\n",
    "- <b>profile</b> is a pure Python module with more overhead, but can be extended. More info at https://docs.python.org/3/library/profile.html#module-cProfile.\n",
    "- another library that is used along with either profiling module is <b>pstats</b> (built-in). pstats includes the <i>Stats</i> class which is used to store results from profiler. See more https://docs.python.org/3/library/profile.html?highlight=pstats#module-pstats\n",
    "\n",
    "We will focus on <b>cProfile</b>.\n"
   ]
  },
  {
   "cell_type": "code",
   "execution_count": 3,
   "metadata": {},
   "outputs": [],
   "source": [
    "from math import sin\n",
    "from time import sleep\n",
    "\n",
    "def f(x):\n",
    "    return 10.0 * sin(x)\n",
    "\n",
    "def compute(n):\n",
    "    x = 1\n",
    "    for i in range(n):\n",
    "        x = f(x)\n",
    "    return x\n",
    "\n",
    "def fun1():\n",
    "    return compute(3*10**5)\n",
    "\n",
    "def fun2():\n",
    "    return compute(5*10**5)\n",
    "\n",
    "def fun3():\n",
    "    sleep_()\n",
    "    return compute(7*10**5)\n",
    "\n",
    "def sleep_():\n",
    "    sleep(0.1)\n",
    "\n",
    "\n",
    "def main():\n",
    "    sum = fun1() + fun2() + fun3()\n",
    "    sleep_()\n",
    "    print('Calcuated sum: {:.3f}\\n'.format(sum))"
   ]
  },
  {
   "cell_type": "markdown",
   "metadata": {},
   "source": [
    "### I) cProfile.run(\"...\")"
   ]
  },
  {
   "cell_type": "markdown",
   "metadata": {},
   "source": [
    "We can run the profiler on a specific code with the cProfile.run() method. As a parameter we pass the code of our program we want to profile, eg. a function call, given in parenthesis."
   ]
  },
  {
   "cell_type": "code",
   "execution_count": 4,
   "metadata": {},
   "outputs": [
    {
     "name": "stdout",
     "output_type": "stream",
     "text": [
      "Calcuated sum: -16.114\n",
      "\n",
      "         3000050 function calls in 1.153 seconds\n",
      "\n",
      "   Ordered by: standard name\n",
      "\n",
      "   ncalls  tottime  percall  cumtime  percall filename:lineno(function)\n",
      "        1    0.000    0.000    0.200    0.200 <ipython-input-3-2fb21421fe6c>:13(fun1)\n",
      "        1    0.000    0.000    0.332    0.332 <ipython-input-3-2fb21421fe6c>:16(fun2)\n",
      "        1    0.000    0.000    0.521    0.521 <ipython-input-3-2fb21421fe6c>:19(fun3)\n",
      "        2    0.000    0.000    0.199    0.099 <ipython-input-3-2fb21421fe6c>:23(sleep_)\n",
      "        1    0.000    0.000    1.153    1.153 <ipython-input-3-2fb21421fe6c>:27(main)\n",
      "  1500000    0.345    0.000    0.598    0.000 <ipython-input-3-2fb21421fe6c>:4(f)\n",
      "        3    0.355    0.118    0.953    0.318 <ipython-input-3-2fb21421fe6c>:7(compute)\n",
      "        1    0.000    0.000    1.153    1.153 <string>:1(<module>)\n",
      "        3    0.000    0.000    0.000    0.000 iostream.py:197(schedule)\n",
      "        2    0.000    0.000    0.000    0.000 iostream.py:309(_is_master_process)\n",
      "        2    0.000    0.000    0.000    0.000 iostream.py:322(_schedule_flush)\n",
      "        2    0.000    0.000    0.000    0.000 iostream.py:384(write)\n",
      "        3    0.000    0.000    0.000    0.000 iostream.py:93(_event_pipe)\n",
      "        3    0.000    0.000    0.000    0.000 socket.py:342(send)\n",
      "        3    0.000    0.000    0.000    0.000 threading.py:1038(_wait_for_tstate_lock)\n",
      "        3    0.000    0.000    0.000    0.000 threading.py:1080(is_alive)\n",
      "        3    0.000    0.000    0.000    0.000 threading.py:507(is_set)\n",
      "        1    0.000    0.000    1.153    1.153 {built-in method builtins.exec}\n",
      "        2    0.000    0.000    0.000    0.000 {built-in method builtins.isinstance}\n",
      "        1    0.000    0.000    0.000    0.000 {built-in method builtins.print}\n",
      "  1500000    0.254    0.000    0.254    0.000 {built-in method math.sin}\n",
      "        2    0.000    0.000    0.000    0.000 {built-in method nt.getpid}\n",
      "        2    0.199    0.099    0.199    0.099 {built-in method time.sleep}\n",
      "        3    0.000    0.000    0.000    0.000 {method 'acquire' of '_thread.lock' objects}\n",
      "        3    0.000    0.000    0.000    0.000 {method 'append' of 'collections.deque' objects}\n",
      "        1    0.000    0.000    0.000    0.000 {method 'disable' of '_lsprof.Profiler' objects}\n",
      "        1    0.000    0.000    0.000    0.000 {method 'format' of 'str' objects}\n",
      "\n",
      "\n"
     ]
    }
   ],
   "source": [
    "import cProfile\n",
    "\n",
    "cProfile.run(\"main()\")"
   ]
  },
  {
   "cell_type": "markdown",
   "metadata": {},
   "source": [
    "<font size=4>cProfile metrics:</font>\n",
    "<font size=3>\n",
    "\n",
    "- <i>ncalls</i> - number of function calls\n",
    "- <i>tottime</i> - total time spent in function itself (<u>excluding subcalls</u>)\n",
    "- <i>percall</i> (1) - total time spent per call = <i>tottime/ncalls</i>\n",
    "- <i>cumtime</i> - cumulative time spent in function, including cubcalls\n",
    "- <i>percall</i> (2) - cumulative time per call = <i>cumtime/ncalls</i>\n",
    "</font>"
   ]
  },
  {
   "cell_type": "markdown",
   "metadata": {},
   "source": [
    "### II) Define the decorator\n",
    "\n",
    "Another, pretty way to use the profiler is by defining a function decorator, which adds the functionality of profiler to it. If you want to save the results too, use the method ps.dump_states() called in the line 19."
   ]
  },
  {
   "cell_type": "code",
   "execution_count": 5,
   "metadata": {},
   "outputs": [],
   "source": [
    "import pstats\n",
    "import io\n",
    "\n",
    "# Profiler decorator\n",
    "def profile(func):\n",
    "\n",
    "    def inner(*args, **kwargs):\n",
    "        pr = cProfile.Profile()\n",
    "        # Enable profiling\n",
    "        pr.enable()\n",
    "        # Execute the function\n",
    "        ret_val = func(*args, **kwargs)\n",
    "        # Disable profiling\n",
    "        pr.disable()\n",
    "        ios = io.StringIO()\n",
    "        ps = pstats.Stats(pr, stream=ios)\n",
    "        ps.print_stats()\n",
    "        # Save stats\n",
    "        # ps.dump_stats('output.pstats')\n",
    "        print(ios.getvalue())\n",
    "        # Return the function value\n",
    "        return ret_val\n",
    "\n",
    "    return inner"
   ]
  },
  {
   "cell_type": "markdown",
   "metadata": {},
   "source": [
    "Having the decorator defined, add it with the annotation mark to the function definition, like below:"
   ]
  },
  {
   "cell_type": "code",
   "execution_count": 6,
   "metadata": {},
   "outputs": [],
   "source": [
    "@profile\n",
    "def main_with_prof():\n",
    "    sum = fun1() + fun2() + fun3()\n",
    "    sleep_()\n",
    "    print('Calcuated sum: {:.3f}\\n'.format(sum))"
   ]
  },
  {
   "cell_type": "markdown",
   "metadata": {},
   "source": [
    "Then, simply calling the function will run the profiler along with it:"
   ]
  },
  {
   "cell_type": "code",
   "execution_count": 7,
   "metadata": {},
   "outputs": [
    {
     "name": "stdout",
     "output_type": "stream",
     "text": [
      "Calcuated sum: -16.114\n",
      "\n",
      "         3000048 function calls in 1.233 seconds\n",
      "\n",
      "   Random listing order was used\n",
      "\n",
      "   ncalls  tottime  percall  cumtime  percall filename:lineno(function)\n",
      "        3    0.000    0.000    0.000    0.000 C:\\Users\\Piotr\\Miniconda3\\lib\\threading.py:507(is_set)\n",
      "        3    0.000    0.000    0.000    0.000 C:\\Users\\Piotr\\Miniconda3\\lib\\threading.py:1038(_wait_for_tstate_lock)\n",
      "        3    0.000    0.000    0.000    0.000 C:\\Users\\Piotr\\Miniconda3\\lib\\threading.py:1080(is_alive)\n",
      "        3    0.000    0.000    0.000    0.000 C:\\Users\\Piotr\\Miniconda3\\lib\\site-packages\\zmq\\sugar\\socket.py:342(send)\n",
      "        3    0.000    0.000    0.000    0.000 C:\\Users\\Piotr\\Miniconda3\\lib\\site-packages\\ipykernel\\iostream.py:93(_event_pipe)\n",
      "        3    0.000    0.000    0.000    0.000 C:\\Users\\Piotr\\Miniconda3\\lib\\site-packages\\ipykernel\\iostream.py:197(schedule)\n",
      "        2    0.000    0.000    0.000    0.000 C:\\Users\\Piotr\\Miniconda3\\lib\\site-packages\\ipykernel\\iostream.py:309(_is_master_process)\n",
      "        2    0.000    0.000    0.000    0.000 C:\\Users\\Piotr\\Miniconda3\\lib\\site-packages\\ipykernel\\iostream.py:322(_schedule_flush)\n",
      "        2    0.000    0.000    0.000    0.000 C:\\Users\\Piotr\\Miniconda3\\lib\\site-packages\\ipykernel\\iostream.py:384(write)\n",
      "        1    0.000    0.000    1.233    1.233 <ipython-input-6-3c039bc08932>:1(main_with_prof)\n",
      "  1500000    0.371    0.000    0.647    0.000 <ipython-input-3-2fb21421fe6c>:4(f)\n",
      "        1    0.000    0.000    0.239    0.239 <ipython-input-3-2fb21421fe6c>:13(fun1)\n",
      "        3    0.385    0.128    1.032    0.344 <ipython-input-3-2fb21421fe6c>:7(compute)\n",
      "        1    0.000    0.000    0.328    0.328 <ipython-input-3-2fb21421fe6c>:16(fun2)\n",
      "        1    0.000    0.000    0.566    0.566 <ipython-input-3-2fb21421fe6c>:19(fun3)\n",
      "        2    0.000    0.000    0.201    0.100 <ipython-input-3-2fb21421fe6c>:23(sleep_)\n",
      "        3    0.000    0.000    0.000    0.000 {method 'append' of 'collections.deque' objects}\n",
      "        2    0.000    0.000    0.000    0.000 {built-in method nt.getpid}\n",
      "        3    0.000    0.000    0.000    0.000 {method 'acquire' of '_thread.lock' objects}\n",
      "        1    0.000    0.000    0.000    0.000 {method 'format' of 'str' objects}\n",
      "        2    0.000    0.000    0.000    0.000 {built-in method builtins.isinstance}\n",
      "        1    0.000    0.000    0.000    0.000 {built-in method builtins.print}\n",
      "        1    0.000    0.000    0.000    0.000 {method 'disable' of '_lsprof.Profiler' objects}\n",
      "  1500000    0.276    0.000    0.276    0.000 {built-in method math.sin}\n",
      "        2    0.201    0.100    0.201    0.100 {built-in method time.sleep}\n",
      "\n",
      "\n",
      "\n"
     ]
    }
   ],
   "source": [
    "main_with_prof()"
   ]
  },
  {
   "cell_type": "markdown",
   "metadata": {},
   "source": [
    "### III) Run from CLI\n",
    "\n",
    "We can also use cProfile module from the command line interface, by passing our module name as a parameter. To try it, use the module <b>sample.py</b> from this repository:\n",
    "\n",
    "#### `python -m cProfile sample.py`\n",
    "#### - Sort by total time\n",
    "#### `python -m cProfile -s tottime sample.py` \n",
    "#### - Save the results\n",
    "The <b>-o</b> option allows us to save the results in order to use them for further visualization.\n",
    "\n",
    "#### `python -m cProfile -o sample.pstats`"
   ]
  },
  {
   "cell_type": "markdown",
   "metadata": {},
   "source": [
    "## 3. Visualize function calls with snakeviz\n",
    "\n",
    "<b>snakeviz</b> is a Python profiler viewer that runs as a web application in your browser.\n",
    "\n",
    "Install it using pip:"
   ]
  },
  {
   "cell_type": "code",
   "execution_count": null,
   "metadata": {},
   "outputs": [],
   "source": [
    "!pip install snakeviz"
   ]
  },
  {
   "cell_type": "markdown",
   "metadata": {},
   "source": [
    "We can easily use snakeviz in a Jupyter Notebook using \"cell magic\", like below.\n",
    "\n",
    "The result will be an interactive graph that depicts the execution time of each program function, but also visualizes how the time spent in it distributes into its subfunctions."
   ]
  },
  {
   "cell_type": "code",
   "execution_count": 8,
   "metadata": {},
   "outputs": [],
   "source": [
    "import snakeviz\n",
    "%load_ext snakeviz"
   ]
  },
  {
   "cell_type": "code",
   "execution_count": 9,
   "metadata": {},
   "outputs": [
    {
     "name": "stdout",
     "output_type": "stream",
     "text": [
      "Calcuated sum: -16.114\n",
      "\n",
      " \n",
      "*** Profile stats marshalled to file 'C:\\\\Users\\\\Piotr\\\\AppData\\\\Local\\\\Temp\\\\tmp2x333lgl'. \n",
      "Embedding SnakeViz in this document...\n"
     ]
    },
    {
     "data": {
      "text/html": [
       "\n",
       "<iframe id='snakeviz-4a3dc3d2-2116-11eb-af6e-606c66367486' frameborder=0 seamless width='100%' height='1000'></iframe>\n",
       "<script>document.getElementById(\"snakeviz-4a3dc3d2-2116-11eb-af6e-606c66367486\").setAttribute(\"src\", \"http://\" + document.location.hostname + \":8080/snakeviz/C%3A%5CUsers%5CPiotr%5CAppData%5CLocal%5CTemp%5Ctmp2x333lgl\")</script>\n"
      ],
      "text/plain": [
       "<IPython.core.display.HTML object>"
      ]
     },
     "metadata": {},
     "output_type": "display_data"
    }
   ],
   "source": [
    "%%snakeviz\n",
    "main()"
   ]
  },
  {
   "cell_type": "code",
   "execution_count": 10,
   "metadata": {},
   "outputs": [
    {
     "name": "stdout",
     "output_type": "stream",
     "text": [
      " \n",
      "*** Profile stats marshalled to file 'C:\\\\Users\\\\Piotr\\\\AppData\\\\Local\\\\Temp\\\\tmpn02pv0in'. \n",
      "Embedding SnakeViz in this document...\n"
     ]
    },
    {
     "data": {
      "text/html": [
       "\n",
       "<iframe id='snakeviz-559e9a9c-2116-11eb-a009-606c66367486' frameborder=0 seamless width='100%' height='1000'></iframe>\n",
       "<script>document.getElementById(\"snakeviz-559e9a9c-2116-11eb-a009-606c66367486\").setAttribute(\"src\", \"http://\" + document.location.hostname + \":8080/snakeviz/C%3A%5CUsers%5CPiotr%5CAppData%5CLocal%5CTemp%5Ctmpn02pv0in\")</script>\n"
      ],
      "text/plain": [
       "<IPython.core.display.HTML object>"
      ]
     },
     "metadata": {},
     "output_type": "display_data"
    }
   ],
   "source": [
    "%%snakeviz\n",
    "import re\n",
    "re.compile(\"^[a-z]+[0-9]{3,}$\")"
   ]
  },
  {
   "cell_type": "markdown",
   "metadata": {},
   "source": [
    "### Run snakeviz from terminal\n",
    "\n",
    "Snakeviz can be also run from command line interface to visualize profiler results that are stored in a file. To try it, use the previously saved file <b>sample.pstats</b>.\n",
    "\n",
    "#### `python -m snakeviz sample.pstats`"
   ]
  },
  {
   "cell_type": "markdown",
   "metadata": {},
   "source": [
    "## 4. Visualize call graph with gprof2dot & graphviz\n",
    "\n",
    "The other 2 tools to visualize profiler stats, are gprof2dot and graphviz.\n",
    "\n",
    "<b>gprof2dot</b> is a python module that generates call graphs in the DOT format. You can install it with\n",
    "`pip install gprof2dot`\n",
    "\n",
    "<b>graphviz</b> is an open source graph visualization software that generates graph PNG images from the DOT format. You can install it from the authors' site:\n",
    "https://graphviz.org/download/"
   ]
  },
  {
   "cell_type": "markdown",
   "metadata": {},
   "source": [
    "To get a call graph from the profiler results file, run the following command in your terminal:"
   ]
  },
  {
   "cell_type": "markdown",
   "metadata": {},
   "source": [
    "### `gprof2dot -f pstats sample.pstats | dot -Tpng -o sample_call_graph.png`\n",
    "\n",
    "- <font size=3> Convert profiler stats to a DOT graph &nbsp;&nbsp;&nbsp;&nbsp;&nbsp;&nbsp;&nbsp;&nbsp;&nbsp;&nbsp;&nbsp;&nbsp;&nbsp;&nbsp;&nbsp;&nbsp; | &nbsp;&nbsp; generate a PNG image from the DOT format </font>"
   ]
  },
  {
   "cell_type": "markdown",
   "metadata": {},
   "source": [
    "## 5. Trace \n",
    "<p>\n",
    "Trace is a built-in Python module that traces program's execution by each line. It prints on the standard output program lines in the exact order they were executed.\n",
    "\n",
    "To test it, use the <b>prime_sieve.py</b> module from this repository:"
   ]
  },
  {
   "cell_type": "markdown",
   "metadata": {},
   "source": [
    "### Trace execution\n",
    "### `python -m trace --trace prime_sieve.py`\n",
    "### Code coverage\n",
    "The --count option counts the number of executions of each line in the program lifetime, and saves these stats to a file.\n",
    "\n",
    "### `python -m trace --count prime_sieve.py`\n",
    "<font size=5> --> `script.cover` </font>"
   ]
  },
  {
   "cell_type": "markdown",
   "metadata": {},
   "source": [
    "## 6. Pyinstrument - statistical profiling\n",
    "\n",
    "Pyinstrument module provides a statistical profiler to our program. Install it with `pip install pyinstrument`.\n",
    "\n",
    "You can run it easily from command line interface:"
   ]
  },
  {
   "cell_type": "markdown",
   "metadata": {},
   "source": [
    "### `pyinstrument local_search.py`\n",
    "\n",
    "Output:\n",
    "\n",
    "`\n",
    "9.918 <module>  local_search.py:1\n",
    "├─ 8.691 fit  local_search.py:83\n",
    "│  └─ 8.690 local_search  local_search.py:28\n",
    "│     └─ 8.670 evaluate  local_search.py:13\n",
    "│        └─ 8.490 [self]\n",
    "├─ 0.788 <module>  pandas\\__init__.py:3\n",
    "│     [979 frames hidden]  pandas, matplotlib, inspect, re, sre_...\n",
    "├─ 0.263 <module>  numpy\\__init__.py:106\n",
    "│     [222 frames hidden]  numpy, pathlib, urllib, collections, ...\n",
    "└─ 0.129 <module>  scipy\\spatial\\__init__.py:95\n",
    "      [46 frames hidden]  scipy, numpy, multiprocessing, re, co...\n",
    "`\n",
    "\n",
    "\n",
    "Save results into HTML format:\n",
    "### `pyinstrument -r html local_search.py`"
   ]
  },
  {
   "cell_type": "markdown",
   "metadata": {},
   "source": [
    "# Sources:\n",
    "### - Python profilers docs: https://docs.python.org/3.7/library/profile.html\n",
    "### - snakeviz site: https://jiffyclub.github.io/snakeviz/\n",
    "### - grpof2dot site: https://github.com/jrfonseca/gprof2dot\n",
    "### - graphviz site: https://graphviz.org/\n",
    "### - Python trace docs: https://docs.python.org/3/library/trace.html\n",
    "### Profiling tutorials:\n",
    "### - https://medium.com/@antoniomdk1/hpc-with-python-part-1-profiling-1dda4d172cdf\n",
    "### - https://stackify.com/how-to-use-python-profilers-learn-the-basics/\n",
    "### - Profiling and optimizing your Python code: https://www.youtube.com/watch?v=8qEnExGLZfY\n"
   ]
  }
 ],
 "metadata": {
  "kernelspec": {
   "display_name": "Python 3",
   "language": "python",
   "name": "python3"
  },
  "language_info": {
   "codemirror_mode": {
    "name": "ipython",
    "version": 3
   },
   "file_extension": ".py",
   "mimetype": "text/x-python",
   "name": "python",
   "nbconvert_exporter": "python",
   "pygments_lexer": "ipython3",
   "version": "3.7.3"
  }
 },
 "nbformat": 4,
 "nbformat_minor": 2
}
